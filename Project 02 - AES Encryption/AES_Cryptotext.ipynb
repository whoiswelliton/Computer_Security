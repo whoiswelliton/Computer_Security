{
  "nbformat": 4,
  "nbformat_minor": 0,
  "metadata": {
    "colab": {
      "name": "AES Cryptotext.ipynb",
      "provenance": [],
      "collapsed_sections": []
    },
    "kernelspec": {
      "display_name": "Python 3",
      "name": "python3"
    },
    "language_info": {
      "name": "python"
    }
  },
  "cells": [
    {
      "cell_type": "code",
      "metadata": {
        "colab": {
          "base_uri": "https://localhost:8080/"
        },
        "id": "kxOCHXOn7it7",
        "outputId": "c86e810b-e8f2-41e3-dba6-48494c63514f"
      },
      "source": [
        "from google.colab import drive\n",
        "drive.mount('/content/drive')"
      ],
      "execution_count": null,
      "outputs": [
        {
          "output_type": "stream",
          "text": [
            "Drive already mounted at /content/drive; to attempt to forcibly remount, call drive.mount(\"/content/drive\", force_remount=True).\n"
          ],
          "name": "stdout"
        }
      ]
    },
    {
      "cell_type": "code",
      "metadata": {
        "id": "J9VXzQxf7o0Z"
      },
      "source": [
        "Path = \"/content/drive/My Drive/Cryptowork\""
      ],
      "execution_count": null,
      "outputs": []
    },
    {
      "cell_type": "code",
      "metadata": {
        "colab": {
          "base_uri": "https://localhost:8080/"
        },
        "id": "uPm8DJSFNZgE",
        "outputId": "8d1f235a-7c41-488a-ea61-7a7dbca135c4"
      },
      "source": [
        "pip install pycryptodome"
      ],
      "execution_count": null,
      "outputs": [
        {
          "output_type": "stream",
          "text": [
            "Requirement already satisfied: pycryptodome in /usr/local/lib/python3.7/dist-packages (3.10.1)\n"
          ],
          "name": "stdout"
        }
      ]
    },
    {
      "cell_type": "code",
      "metadata": {
        "id": "sgxe-z2hOwQA"
      },
      "source": [
        "from Crypto.Cipher import AES\n",
        "from Crypto.Random import get_random_bytes\n",
        "from Crypto.Util.Padding import pad, unpad\n",
        "\n",
        "import os\n",
        "import os.path\n",
        "import io\n",
        "import base64\n",
        "from io import BytesIO, StringIO\n",
        "from base64 import b64decode"
      ],
      "execution_count": null,
      "outputs": []
    },
    {
      "cell_type": "code",
      "metadata": {
        "id": "JVqb5lT9hdOR"
      },
      "source": [
        "#chave de 16 bytes\n",
        "KEY = get_random_bytes(16)\n",
        "\n",
        "#vetor de inicialização\n",
        "IV = get_random_bytes(16)"
      ],
      "execution_count": null,
      "outputs": []
    },
    {
      "cell_type": "code",
      "metadata": {
        "colab": {
          "base_uri": "https://localhost:8080/"
        },
        "id": "B_tYrUISim6c",
        "outputId": "47acc454-ec5e-466b-dac4-fc61418605a6"
      },
      "source": [
        "print(KEY)\n",
        "print(IV)"
      ],
      "execution_count": null,
      "outputs": [
        {
          "output_type": "stream",
          "text": [
            "b'\\x7fR\\xbf\\xa3ayB\\xd9T\\xc1t \\xc0B\\xa0\\xdd'\n",
            "b'\\xe8\\xbd\\x14\\r\\xd1\\xf6\\xf9\\xc9\\xf4\\x1a^\\x9fX\\x10\\xe7~'\n"
          ],
          "name": "stdout"
        }
      ]
    },
    {
      "cell_type": "code",
      "metadata": {
        "id": "lrv7cMDnjBQ8"
      },
      "source": [
        "#String com o texto limpo\n",
        "texto = b'menssagem ultra secreta enviada'\n",
        "\n",
        "#txtoriginal = bytes(original, 'UTF-8')"
      ],
      "execution_count": null,
      "outputs": []
    },
    {
      "cell_type": "code",
      "metadata": {
        "id": "8l76RXrehfGg"
      },
      "source": [
        "#modos de operação para blocos simétricos\n",
        "Mode1 = AES.MODE_ECB        #Electronic CodeBook\n",
        "Mode2 = AES.MODE_CBC        #Ciphertext Block Chaining\n",
        "\n",
        "cipher1 = AES.new(KEY, Mode1)\n",
        "cipher2 = AES.new(KEY, Mode2, IV)"
      ],
      "execution_count": null,
      "outputs": []
    },
    {
      "cell_type": "code",
      "metadata": {
        "id": "f8BlTISjOwl6"
      },
      "source": [
        "#encriptando o texto e armazenando na variável\n",
        "#pad = garante múltiplos de 128 bits\n",
        "\n",
        "ENC_txt1 = cipher1.encrypt(pad (texto, 16))\n",
        "ENC_txt2 = cipher2.encrypt(pad (texto, 16))"
      ],
      "execution_count": null,
      "outputs": []
    },
    {
      "cell_type": "code",
      "metadata": {
        "colab": {
          "base_uri": "https://localhost:8080/"
        },
        "id": "jsMUSyfbnuY-",
        "outputId": "53974eba-2347-4b71-9c49-04602046b5b8"
      },
      "source": [
        "print(ENC_txt1)\n",
        "print(ENC_txt2)"
      ],
      "execution_count": null,
      "outputs": [
        {
          "output_type": "stream",
          "text": [
            "b'\\x02r\\xe7\\x91\\xbbm\\x1f\\xf8\\x1fyo\\x1b,4\\x13\\x96\\xab\\x86\\xadUcw\\xfc\\x1am\\xd8\\xa0)\\xc4\\xa5\\x98P'\n",
            "b'l(\\xb0\\xec\\xe6tQ\\xa3\\xd9\\xc4Z\\x125v\\xc8q)\\x89\\xc4\\xe5\\x96\\xd9\\x01\\x97e_.\\x88\\xd9\\xf7}\\xad'\n"
          ],
          "name": "stdout"
        }
      ]
    },
    {
      "cell_type": "code",
      "metadata": {
        "id": "uQnfNeiEpTCv"
      },
      "source": [
        "#decriptando\n",
        "\n",
        "cipher3 = AES.new(KEY, mode1)\n",
        "cipher4 = AES.new(KEY, mode2, IV)"
      ],
      "execution_count": null,
      "outputs": []
    },
    {
      "cell_type": "code",
      "metadata": {
        "id": "E-qqebTH79BH"
      },
      "source": [
        "DEC_txt1 = unpad(cipher3.decrypt(ENC_txt1), 16)\n",
        "DEC_txt2 = unpad(cipher4.decrypt(ENC_txt2), 16)"
      ],
      "execution_count": null,
      "outputs": []
    },
    {
      "cell_type": "code",
      "metadata": {
        "colab": {
          "base_uri": "https://localhost:8080/"
        },
        "id": "dEVyJ_4g-gXz",
        "outputId": "fd02d22b-fa7b-4589-c5b4-428184d9821a"
      },
      "source": [
        "print(DEC_txt1)\n",
        "print(DEC_txt2)"
      ],
      "execution_count": null,
      "outputs": [
        {
          "output_type": "stream",
          "text": [
            "b'menssagem ultra secreta enviada'\n",
            "b'menssagem ultra secreta enviada'\n"
          ],
          "name": "stdout"
        }
      ]
    }
  ]
}