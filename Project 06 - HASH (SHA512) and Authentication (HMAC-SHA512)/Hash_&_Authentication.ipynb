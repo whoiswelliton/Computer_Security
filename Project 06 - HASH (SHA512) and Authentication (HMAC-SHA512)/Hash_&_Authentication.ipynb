{
  "nbformat": 4,
  "nbformat_minor": 0,
  "metadata": {
    "colab": {
      "name": "Hash & Authentication.ipynb",
      "provenance": []
    },
    "kernelspec": {
      "name": "python3",
      "display_name": "Python 3"
    },
    "language_info": {
      "name": "python"
    }
  },
  "cells": [
    {
      "cell_type": "code",
      "metadata": {
        "colab": {
          "base_uri": "https://localhost:8080/"
        },
        "id": "jaKeaJJbqrht",
        "outputId": "c279faab-3325-481a-b607-e41d12f16fbe"
      },
      "source": [
        "from google.colab import drive\n",
        "drive.mount('/content/drive')"
      ],
      "execution_count": null,
      "outputs": [
        {
          "output_type": "stream",
          "text": [
            "Drive already mounted at /content/drive; to attempt to forcibly remount, call drive.mount(\"/content/drive\", force_remount=True).\n"
          ],
          "name": "stdout"
        }
      ]
    },
    {
      "cell_type": "code",
      "metadata": {
        "colab": {
          "base_uri": "https://localhost:8080/"
        },
        "id": "10joQsg2c5uY",
        "outputId": "dce557a7-09f3-424d-edaa-9f5e577934f6"
      },
      "source": [
        "pip install pycryptodome"
      ],
      "execution_count": null,
      "outputs": [
        {
          "output_type": "stream",
          "text": [
            "Collecting pycryptodome\n",
            "\u001b[?25l  Downloading https://files.pythonhosted.org/packages/ad/16/9627ab0493894a11c68e46000dbcc82f578c8ff06bc2980dcd016aea9bd3/pycryptodome-3.10.1-cp35-abi3-manylinux2010_x86_64.whl (1.9MB)\n",
            "\u001b[K     |████████████████████████████████| 1.9MB 5.6MB/s \n",
            "\u001b[?25hInstalling collected packages: pycryptodome\n",
            "Successfully installed pycryptodome-3.10.1\n"
          ],
          "name": "stdout"
        }
      ]
    },
    {
      "cell_type": "code",
      "metadata": {
        "id": "CeySWutfksAZ"
      },
      "source": [
        "import hashlib\n",
        "from Crypto.Hash import SHA512\n",
        "from Crypto.Hash import HMAC\n",
        "from Crypto.Random import get_random_bytes"
      ],
      "execution_count": null,
      "outputs": []
    },
    {
      "cell_type": "markdown",
      "metadata": {
        "id": "wMZznhXvoKlN"
      },
      "source": [
        " - Função de Criptografia Hash utilizada -> SHA-512"
      ]
    },
    {
      "cell_type": "code",
      "metadata": {
        "id": "9rLgmGi7zApj"
      },
      "source": [
        "#mensagem de entrada\n",
        "Message = b\"Informacao Digital Qualquer\""
      ],
      "execution_count": null,
      "outputs": []
    },
    {
      "cell_type": "code",
      "metadata": {
        "colab": {
          "base_uri": "https://localhost:8080/"
        },
        "id": "muemLdkYy2-r",
        "outputId": "8d199036-b131-412a-ba5f-77a2489cb963"
      },
      "source": [
        "#chave secreta K de 16 bytes\n",
        "SecretKey = get_random_bytes(16)\n",
        "print(SecretKey)"
      ],
      "execution_count": null,
      "outputs": [
        {
          "output_type": "stream",
          "text": [
            "b'\\xcc.\\x9cn\\x14\\x90[onU\\xd8\\xf0`py\\x9d'\n"
          ],
          "name": "stdout"
        }
      ]
    },
    {
      "cell_type": "markdown",
      "metadata": {
        "id": "4ocXG7Gn1Tyz"
      },
      "source": [
        "# HASH -> SHA-512"
      ]
    },
    {
      "cell_type": "markdown",
      "metadata": {
        "id": "CBXQb4cSN_nj"
      },
      "source": [
        "SHA - Secure Hash Algorithm"
      ]
    },
    {
      "cell_type": "markdown",
      "metadata": {
        "id": "AcseNnhwoF5u"
      },
      "source": [
        "1 - Um código de hash não usa uma chave, sendo uma função apenas da mensagem de entrada.\n",
        "\n",
        "2 - Uma mudança em qualquer bit ou bits na mensagem resulta em uma\n",
        "mudança no código de hash.\n",
        "\n",
        "3 - H pode ser aplicado a um bloco de dados de qualquer tamanho e produz uma saída de comprimento fixo.\n",
        "\n",
        "4 - Para qualquer valor h dado, deve ser inviável obter x.\n",
        "\n",
        "5 - Para qualquer bloco x, deve ser inviável encontrar uma mensagem alternativa que gere o mesmo hash."
      ]
    },
    {
      "cell_type": "markdown",
      "metadata": {
        "id": "FBuG67bquefI"
      },
      "source": [
        "Uma função de hash mapeia uma mensagem de tamanho variável em um valor de hash de tamanho fixo, também conhecido como resumo da mensagem (message digest)."
      ]
    },
    {
      "cell_type": "markdown",
      "metadata": {
        "id": "GDQSq6X6yxeO"
      },
      "source": [
        "- Exemplo (a)"
      ]
    },
    {
      "cell_type": "markdown",
      "metadata": {
        "id": "YfCrgi8jJmKt"
      },
      "source": [
        "- Pycryptodome"
      ]
    },
    {
      "cell_type": "code",
      "metadata": {
        "id": "P80F9ybCKI2f"
      },
      "source": [
        "#criando objeto hash utilizando o modo SHA512\n",
        "HASH1 = SHA512.new(Message)"
      ],
      "execution_count": null,
      "outputs": []
    },
    {
      "cell_type": "code",
      "metadata": {
        "colab": {
          "base_uri": "https://localhost:8080/"
        },
        "id": "rKxa4GEpDO1e",
        "outputId": "23b8939e-ec47-4791-fe2e-2b39d1773b1c"
      },
      "source": [
        "#tamanho do bloco de mensagem em bytes - 512 bits\n",
        "HASH1.digest_size"
      ],
      "execution_count": null,
      "outputs": [
        {
          "output_type": "execute_result",
          "data": {
            "text/plain": [
              "64"
            ]
          },
          "metadata": {
            "tags": []
          },
          "execution_count": 433
        }
      ]
    },
    {
      "cell_type": "code",
      "metadata": {
        "colab": {
          "base_uri": "https://localhost:8080/"
        },
        "id": "IfHZCsDdDBlj",
        "outputId": "00adf8ab-277a-43ea-f8c7-50ecc9f4d3b8"
      },
      "source": [
        "#tamanho da mensagem sintetizada em bytes - 1024 bits\n",
        "HASH1.block_size"
      ],
      "execution_count": null,
      "outputs": [
        {
          "output_type": "execute_result",
          "data": {
            "text/plain": [
              "128"
            ]
          },
          "metadata": {
            "tags": []
          },
          "execution_count": 434
        }
      ]
    },
    {
      "cell_type": "code",
      "metadata": {
        "colab": {
          "base_uri": "https://localhost:8080/"
        },
        "id": "uZFm5fU7Codn",
        "outputId": "420ee44d-11e7-40e5-b116-8a292787d87e"
      },
      "source": [
        "#retorna o binário da mensagem sintetizada mas não printável\n",
        "HASH1.digest()"
      ],
      "execution_count": null,
      "outputs": [
        {
          "output_type": "execute_result",
          "data": {
            "text/plain": [
              "b'^\\x87RH\\x0e\\xed\\xa0\\xb3\\xfb\\x0e\\xa7\\tn\\x08bpj\\xbb\\x90\\xeaW\\xcc\\xc7\\xd1\\xa3\\xad\\xa4R0\\x93Q_\\xd1\\x10\\xbftEe\\xcdP\\xb8\\xa5:\\xfdJm\\xc8U\\xe1\\x93\\x7f\\x08\\x033\\x03\\xffi,k:\\x8f\\x0ft\\xc4'"
            ]
          },
          "metadata": {
            "tags": []
          },
          "execution_count": 435
        }
      ]
    },
    {
      "cell_type": "markdown",
      "metadata": {
        "id": "Un-O-2bX5Re_"
      },
      "source": [
        "HASH 1 - Gerada com usando a mensagem inteira"
      ]
    },
    {
      "cell_type": "code",
      "metadata": {
        "colab": {
          "base_uri": "https://localhost:8080/",
          "height": 35
        },
        "id": "fPlb-CkqCuP3",
        "outputId": "8d743962-9bb3-4f94-d8a3-a0f2e6885976"
      },
      "source": [
        "#retorna a mensagem sintetizada/resumo\n",
        "HASH1.hexdigest()"
      ],
      "execution_count": null,
      "outputs": [
        {
          "output_type": "execute_result",
          "data": {
            "application/vnd.google.colaboratory.intrinsic+json": {
              "type": "string"
            },
            "text/plain": [
              "'5e8752480eeda0b3fb0ea7096e0862706abb90ea57ccc7d1a3ada4523093515fd110bf744565cd50b8a53afd4a6dc855e1937f08033303ff692c6b3a8f0f74c4'"
            ]
          },
          "metadata": {
            "tags": []
          },
          "execution_count": 436
        }
      ]
    },
    {
      "cell_type": "markdown",
      "metadata": {
        "id": "w2OSNlY7Jqqj"
      },
      "source": [
        "- Hashlib"
      ]
    },
    {
      "cell_type": "code",
      "metadata": {
        "id": "i2fOsX_5KHdA"
      },
      "source": [
        "HASH2 = hashlib.sha512()"
      ],
      "execution_count": null,
      "outputs": []
    },
    {
      "cell_type": "code",
      "metadata": {
        "id": "P83fvxPXKdzV"
      },
      "source": [
        "HASH2.update(b\"Informacao Digital\")\n",
        "HASH2.update(b\" Qualquer\")"
      ],
      "execution_count": null,
      "outputs": []
    },
    {
      "cell_type": "code",
      "metadata": {
        "colab": {
          "base_uri": "https://localhost:8080/"
        },
        "id": "Ah8yd4vKKl91",
        "outputId": "f71efa08-7b3f-45cc-cca9-cf899731a857"
      },
      "source": [
        "HASH2.digest()"
      ],
      "execution_count": null,
      "outputs": [
        {
          "output_type": "execute_result",
          "data": {
            "text/plain": [
              "b'^\\x87RH\\x0e\\xed\\xa0\\xb3\\xfb\\x0e\\xa7\\tn\\x08bpj\\xbb\\x90\\xeaW\\xcc\\xc7\\xd1\\xa3\\xad\\xa4R0\\x93Q_\\xd1\\x10\\xbftEe\\xcdP\\xb8\\xa5:\\xfdJm\\xc8U\\xe1\\x93\\x7f\\x08\\x033\\x03\\xffi,k:\\x8f\\x0ft\\xc4'"
            ]
          },
          "metadata": {
            "tags": []
          },
          "execution_count": 439
        }
      ]
    },
    {
      "cell_type": "markdown",
      "metadata": {
        "id": "TeCm00kq5XXj"
      },
      "source": [
        "HASH 2 - Geradando a informação hash em momentos distintos da mensagem dividida"
      ]
    },
    {
      "cell_type": "code",
      "metadata": {
        "colab": {
          "base_uri": "https://localhost:8080/",
          "height": 35
        },
        "id": "KjdRmWLxMStM",
        "outputId": "0f5991ea-5dd3-47d3-95fa-6dbb81bfb69b"
      },
      "source": [
        "HASH2.hexdigest()"
      ],
      "execution_count": null,
      "outputs": [
        {
          "output_type": "execute_result",
          "data": {
            "application/vnd.google.colaboratory.intrinsic+json": {
              "type": "string"
            },
            "text/plain": [
              "'5e8752480eeda0b3fb0ea7096e0862706abb90ea57ccc7d1a3ada4523093515fd110bf744565cd50b8a53afd4a6dc855e1937f08033303ff692c6b3a8f0f74c4'"
            ]
          },
          "metadata": {
            "tags": []
          },
          "execution_count": 440
        }
      ]
    },
    {
      "cell_type": "markdown",
      "metadata": {
        "id": "zUQK5q-vzyBl"
      },
      "source": [
        "Adicionando a chave secreta como novo bloco de informação depois de já ter gerado o hash da mensagem\n",
        "\n",
        "- [ H(M) + E(K) ] => E(K,[M || H(M)]) "
      ]
    },
    {
      "cell_type": "code",
      "metadata": {
        "id": "EEcadWyk8ROy"
      },
      "source": [
        "E = HASH2"
      ],
      "execution_count": null,
      "outputs": []
    },
    {
      "cell_type": "code",
      "metadata": {
        "id": "uHR1nzhuyyRT"
      },
      "source": [
        "E.update(SecretKey)"
      ],
      "execution_count": null,
      "outputs": []
    },
    {
      "cell_type": "code",
      "metadata": {
        "colab": {
          "base_uri": "https://localhost:8080/",
          "height": 35
        },
        "id": "HsJErb6tzler",
        "outputId": "9ef77b7f-d9b7-4ae7-f349-cdb90681d55e"
      },
      "source": [
        "HMAC_E = E.hexdigest()\n",
        "HMAC_E"
      ],
      "execution_count": null,
      "outputs": [
        {
          "output_type": "execute_result",
          "data": {
            "application/vnd.google.colaboratory.intrinsic+json": {
              "type": "string"
            },
            "text/plain": [
              "'10fec91ec4ea19e43960aef50662db36a6f69ac1ca8810f2757fee65760c926a23950da767b18ee0152038de44cc314324fe99b28662dae3ada9020a94b2777c'"
            ]
          },
          "metadata": {
            "tags": []
          },
          "execution_count": 443
        }
      ]
    },
    {
      "cell_type": "markdown",
      "metadata": {
        "id": "HUTwwVGi0Zma"
      },
      "source": [
        "O destinatário possui:\n",
        "- MAC Original\n",
        "- Mensagem Recebida\n",
        "- Secret Key\n",
        "- Função SHA-512"
      ]
    },
    {
      "cell_type": "code",
      "metadata": {
        "id": "hm1IlXGW1OJN"
      },
      "source": [
        "HASHDest = SHA512.new(Message)"
      ],
      "execution_count": null,
      "outputs": []
    },
    {
      "cell_type": "code",
      "metadata": {
        "colab": {
          "base_uri": "https://localhost:8080/",
          "height": 35
        },
        "id": "aE4kim421qCb",
        "outputId": "f3b1840b-8b31-4bcc-9e54-24737ac4c7a1"
      },
      "source": [
        "HASHDest.hexdigest()"
      ],
      "execution_count": null,
      "outputs": [
        {
          "output_type": "execute_result",
          "data": {
            "application/vnd.google.colaboratory.intrinsic+json": {
              "type": "string"
            },
            "text/plain": [
              "'5e8752480eeda0b3fb0ea7096e0862706abb90ea57ccc7d1a3ada4523093515fd110bf744565cd50b8a53afd4a6dc855e1937f08033303ff692c6b3a8f0f74c4'"
            ]
          },
          "metadata": {
            "tags": []
          },
          "execution_count": 445
        }
      ]
    },
    {
      "cell_type": "code",
      "metadata": {
        "id": "LoLOWcL3_S7O"
      },
      "source": [
        "E2 = HASHDest"
      ],
      "execution_count": null,
      "outputs": []
    },
    {
      "cell_type": "code",
      "metadata": {
        "id": "jhHMwsOM1vEH"
      },
      "source": [
        "E2.update(SecretKey)"
      ],
      "execution_count": null,
      "outputs": []
    },
    {
      "cell_type": "code",
      "metadata": {
        "colab": {
          "base_uri": "https://localhost:8080/",
          "height": 35
        },
        "id": "sGjc5xwC13vS",
        "outputId": "40228d9a-3de4-46f4-c8d0-20d5189d9359"
      },
      "source": [
        "HMAC_E2 = E2.hexdigest()\n",
        "HMAC_E2"
      ],
      "execution_count": null,
      "outputs": [
        {
          "output_type": "execute_result",
          "data": {
            "application/vnd.google.colaboratory.intrinsic+json": {
              "type": "string"
            },
            "text/plain": [
              "'10fec91ec4ea19e43960aef50662db36a6f69ac1ca8810f2757fee65760c926a23950da767b18ee0152038de44cc314324fe99b28662dae3ada9020a94b2777c'"
            ]
          },
          "metadata": {
            "tags": []
          },
          "execution_count": 448
        }
      ]
    },
    {
      "cell_type": "code",
      "metadata": {
        "colab": {
          "base_uri": "https://localhost:8080/"
        },
        "id": "fJA0Z5W9AARB",
        "outputId": "7d226d57-762e-4bae-9ea3-f5d773f36ecf"
      },
      "source": [
        "#Verficação se aos dois HMAC's são iguais\n",
        "HMAC_E == HMAC_E2"
      ],
      "execution_count": null,
      "outputs": [
        {
          "output_type": "execute_result",
          "data": {
            "text/plain": [
              "True"
            ]
          },
          "metadata": {
            "tags": []
          },
          "execution_count": 449
        }
      ]
    },
    {
      "cell_type": "markdown",
      "metadata": {
        "id": "DO7osAreNzlE"
      },
      "source": [
        "# AUTHENTICATION -> HMAC-SHA512"
      ]
    },
    {
      "cell_type": "markdown",
      "metadata": {
        "id": "Io0oZrJwRd7C"
      },
      "source": [
        "HMAC - Hash-based Message Authentication Code\n",
        "- Depende de uma chave secreta"
      ]
    },
    {
      "cell_type": "markdown",
      "metadata": {
        "id": "qrow8J0EPh5y"
      },
      "source": [
        "K -  SECRET KEY - Chave secreta compartilhada\n",
        "\n",
        "C = função MAC (SHA512)\n",
        "\n",
        "M = Mensagem de entrada\n",
        "\n",
        "H - função de hash embutida\n",
        "\n",
        "MAC = código de autenticação da mensagem\n"
      ]
    },
    {
      "cell_type": "markdown",
      "metadata": {
        "id": "d9aeV5GvulGF"
      },
      "source": [
        "Para autenticação da mensagem, uma função de hash segura precisa ser combinada de alguma forma com uma chave secreta."
      ]
    },
    {
      "cell_type": "markdown",
      "metadata": {
        "id": "VqwGTKT-whYJ"
      },
      "source": [
        "- Exemplo (b)"
      ]
    },
    {
      "cell_type": "markdown",
      "metadata": {
        "id": "dVRet-XgAsmP"
      },
      "source": [
        "- H[ M + E(K) ] => E(K, H(M)) "
      ]
    },
    {
      "cell_type": "code",
      "metadata": {
        "id": "oJ7bTnmTSCAj"
      },
      "source": [
        "#Cria um novo objeto MAC passando Chave, mensagem e modo de hash\n",
        "HM = HMAC.new(SecretKey, msg = Message, digestmod = SHA512)"
      ],
      "execution_count": null,
      "outputs": []
    },
    {
      "cell_type": "code",
      "metadata": {
        "colab": {
          "base_uri": "https://localhost:8080/"
        },
        "id": "-0RPYQw2Y9WA",
        "outputId": "d0c6a38b-f8c3-4d8b-c53f-5f3ef51391d3"
      },
      "source": [
        "#retorna o MAC binário não printável da mensagem autenticada\n",
        "HM.digest()"
      ],
      "execution_count": null,
      "outputs": [
        {
          "output_type": "execute_result",
          "data": {
            "text/plain": [
              "b'\\xe1\\xf7\\xa2\\xa4\\xf2\\xcam\\x0c\\xeey\\xa5\\xd0\\xa0W\\x17z\\xc8\\x0e\\x9d\\x8d\\x95\\xd7B\\x16W\\xe6\"MAN9{kn\\xdc\\xf7/\\xefjD\\x07\\x17\\xcb\\xc27\\x84\\'+\\xde\\xdf]\\xe7_\\x16\\xce#K\\xf7RD\\xb73\\x8aL'"
            ]
          },
          "metadata": {
            "tags": []
          },
          "execution_count": 451
        }
      ]
    },
    {
      "cell_type": "code",
      "metadata": {
        "colab": {
          "base_uri": "https://localhost:8080/",
          "height": 35
        },
        "id": "pTmF8tlpY3dU",
        "outputId": "2423f3d8-a64f-4b7e-c8fd-44f7ea5e392a"
      },
      "source": [
        "#retorna a tag MAC printável\n",
        "HMAC_FINAL = HM.hexdigest()\n",
        "HMAC_FINAL"
      ],
      "execution_count": null,
      "outputs": [
        {
          "output_type": "execute_result",
          "data": {
            "application/vnd.google.colaboratory.intrinsic+json": {
              "type": "string"
            },
            "text/plain": [
              "'e1f7a2a4f2ca6d0cee79a5d0a057177ac80e9d8d95d7421657e6224d414e397b6b6edcf72fef6a440717cbc23784272bdedf5de75f16ce234bf75244b7338a4c'"
            ]
          },
          "metadata": {
            "tags": []
          },
          "execution_count": 452
        }
      ]
    },
    {
      "cell_type": "markdown",
      "metadata": {
        "id": "6MlP0KQEEAPN"
      },
      "source": [
        "Criando uma HMAC4 com uma \"Nova Informacao\" a mais"
      ]
    },
    {
      "cell_type": "code",
      "metadata": {
        "id": "b02-YT6pD_rZ"
      },
      "source": [
        "HM2 = HM"
      ],
      "execution_count": null,
      "outputs": []
    },
    {
      "cell_type": "code",
      "metadata": {
        "colab": {
          "base_uri": "https://localhost:8080/"
        },
        "id": "W9WIEGXbETvl",
        "outputId": "be423273-f578-4a07-f240-7945e9f064e3"
      },
      "source": [
        "HM2.update(b'Nova Informacao')"
      ],
      "execution_count": null,
      "outputs": [
        {
          "output_type": "execute_result",
          "data": {
            "text/plain": [
              "<Crypto.Hash.HMAC.HMAC at 0x7f948fe0a8d0>"
            ]
          },
          "metadata": {
            "tags": []
          },
          "execution_count": 454
        }
      ]
    },
    {
      "cell_type": "code",
      "metadata": {
        "colab": {
          "base_uri": "https://localhost:8080/",
          "height": 35
        },
        "id": "cYihQwBDENrS",
        "outputId": "4ab2bca0-e304-4be3-8eda-95689ffcca2c"
      },
      "source": [
        "HMAC_ZOADO = HM2.hexdigest()\n",
        "HMAC_ZOADO"
      ],
      "execution_count": null,
      "outputs": [
        {
          "output_type": "execute_result",
          "data": {
            "application/vnd.google.colaboratory.intrinsic+json": {
              "type": "string"
            },
            "text/plain": [
              "'9711f99a1400c93a3be27c57bf41badea0317aa4d07b17d3a9c7576c825521df87e8ee92a2234034347723368fe6794c5f3b5112de53424da6cbf6c81e0c12ea'"
            ]
          },
          "metadata": {
            "tags": []
          },
          "execution_count": 455
        }
      ]
    },
    {
      "cell_type": "markdown",
      "metadata": {
        "id": "-a39-W4fZA7a"
      },
      "source": [
        "Validando o MAC"
      ]
    },
    {
      "cell_type": "markdown",
      "metadata": {
        "id": "B_OvOc4WDKQL"
      },
      "source": [
        "O destinatário possui:\n",
        "- MAC Original\n",
        "- Mensagem Recebida\n",
        "- Secret Key\n",
        "- Função SHA-512"
      ]
    },
    {
      "cell_type": "code",
      "metadata": {
        "id": "yY5HTIHNZ2DB"
      },
      "source": [
        "HMD = HMAC.new(SecretKey, msg = Message, digestmod = SHA512)"
      ],
      "execution_count": null,
      "outputs": []
    },
    {
      "cell_type": "code",
      "metadata": {
        "colab": {
          "base_uri": "https://localhost:8080/",
          "height": 35
        },
        "id": "sMpKjwcTDhZY",
        "outputId": "640c4ad4-727c-47ae-b85a-661b34bbcc96"
      },
      "source": [
        "HM_DEST = HMD.hexdigest()\n",
        "HM_DEST"
      ],
      "execution_count": null,
      "outputs": [
        {
          "output_type": "execute_result",
          "data": {
            "application/vnd.google.colaboratory.intrinsic+json": {
              "type": "string"
            },
            "text/plain": [
              "'e1f7a2a4f2ca6d0cee79a5d0a057177ac80e9d8d95d7421657e6224d414e397b6b6edcf72fef6a440717cbc23784272bdedf5de75f16ce234bf75244b7338a4c'"
            ]
          },
          "metadata": {
            "tags": []
          },
          "execution_count": 457
        }
      ]
    },
    {
      "cell_type": "markdown",
      "metadata": {
        "id": "U-Xd-V49ITSY"
      },
      "source": [
        "Verificando com o HMAC Igual"
      ]
    },
    {
      "cell_type": "code",
      "metadata": {
        "colab": {
          "base_uri": "https://localhost:8080/"
        },
        "id": "_IxFdRCtaHCc",
        "outputId": "10b2ec5c-7cd6-45f2-a2d5-5cca8fc2b479"
      },
      "source": [
        "try:\n",
        "  HMD.hexverify(HMAC_FINAL)\n",
        "  print(\"The message '%s' is authentic\" % Message)\n",
        "except ValueError:\n",
        "  print(\"The message or the key is wrong\")"
      ],
      "execution_count": null,
      "outputs": [
        {
          "output_type": "stream",
          "text": [
            "The message 'b'Informacao Digital Qualquer'' is authentic\n"
          ],
          "name": "stdout"
        }
      ]
    },
    {
      "cell_type": "code",
      "metadata": {
        "colab": {
          "base_uri": "https://localhost:8080/"
        },
        "id": "ZLPEL-diDbN4",
        "outputId": "e75baed5-e51d-4e07-9384-aea8e88ce463"
      },
      "source": [
        "HM_DEST == HMAC_FINAL"
      ],
      "execution_count": null,
      "outputs": [
        {
          "output_type": "execute_result",
          "data": {
            "text/plain": [
              "True"
            ]
          },
          "metadata": {
            "tags": []
          },
          "execution_count": 459
        }
      ]
    },
    {
      "cell_type": "markdown",
      "metadata": {
        "id": "AeI1XMz3IQOd"
      },
      "source": [
        "Verificando com o HMAC Diferente"
      ]
    },
    {
      "cell_type": "code",
      "metadata": {
        "colab": {
          "base_uri": "https://localhost:8080/"
        },
        "id": "1v6Fs02WIPno",
        "outputId": "f6de8e30-8588-414c-bcb6-ebf8b4c46cbc"
      },
      "source": [
        "try:\n",
        "  HMD.hexverify(HMAC_ZOADO)\n",
        "  print(\"The message '%s' is authentic\" % Message)\n",
        "except ValueError:\n",
        "  print(\"The message or the key is wrong\")"
      ],
      "execution_count": null,
      "outputs": [
        {
          "output_type": "stream",
          "text": [
            "The message or the key is wrong\n"
          ],
          "name": "stdout"
        }
      ]
    },
    {
      "cell_type": "code",
      "metadata": {
        "colab": {
          "base_uri": "https://localhost:8080/"
        },
        "id": "k7EKn-qsIKLZ",
        "outputId": "e0028c03-cfb2-4fb6-c5fe-b5b70ebd12c6"
      },
      "source": [
        "HM_DEST == HMAC_ZOADO"
      ],
      "execution_count": null,
      "outputs": [
        {
          "output_type": "execute_result",
          "data": {
            "text/plain": [
              "False"
            ]
          },
          "metadata": {
            "tags": []
          },
          "execution_count": 461
        }
      ]
    }
  ]
}